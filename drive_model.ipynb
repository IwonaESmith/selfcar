{
 "cells": [
  {
   "cell_type": "code",
   "execution_count": 0,
   "metadata": {
    "colab": {
     "base_uri": "https://localhost:8080/",
     "height": 312
    },
    "colab_type": "code",
    "executionInfo": {
     "elapsed": 7098,
     "status": "ok",
     "timestamp": 1558466616593,
     "user": {
      "displayName": "Iwona Smith",
      "photoUrl": "https://lh4.googleusercontent.com/-JA8V3yYHkmc/AAAAAAAAAAI/AAAAAAAAAC4/DSeISnDbJ5U/s64/photo.jpg",
      "userId": "04990095043847157442"
     },
     "user_tz": -120
    },
    "id": "7r5ON96CBx5Q",
    "outputId": "bbdcdc52-9b64-493a-c5a3-f37c84607915"
   },
   "outputs": [
    {
     "name": "stdout",
     "output_type": "stream",
     "text": [
      "Tue May 21 19:23:33 2019       \n",
      "+-----------------------------------------------------------------------------+\n",
      "| NVIDIA-SMI 418.67       Driver Version: 410.79       CUDA Version: 10.0     |\n",
      "|-------------------------------+----------------------+----------------------+\n",
      "| GPU  Name        Persistence-M| Bus-Id        Disp.A | Volatile Uncorr. ECC |\n",
      "| Fan  Temp  Perf  Pwr:Usage/Cap|         Memory-Usage | GPU-Util  Compute M. |\n",
      "|===============================+======================+======================|\n",
      "|   0  Tesla T4            Off  | 00000000:00:04.0 Off |                    0 |\n",
      "| N/A   67C    P8    17W /  70W |      0MiB / 15079MiB |      0%      Default |\n",
      "+-------------------------------+----------------------+----------------------+\n",
      "                                                                               \n",
      "+-----------------------------------------------------------------------------+\n",
      "| Processes:                                                       GPU Memory |\n",
      "|  GPU       PID   Type   Process name                             Usage      |\n",
      "|=============================================================================|\n",
      "|  No running processes found                                                 |\n",
      "+-----------------------------------------------------------------------------+\n"
     ]
    }
   ],
   "source": [
    "!nvidia-smi"
   ]
  },
  {
   "cell_type": "code",
   "execution_count": 0,
   "metadata": {
    "colab": {
     "base_uri": "https://localhost:8080/",
     "height": 367
    },
    "colab_type": "code",
    "executionInfo": {
     "elapsed": 8267,
     "status": "ok",
     "timestamp": 1558467032638,
     "user": {
      "displayName": "Iwona Smith",
      "photoUrl": "https://lh4.googleusercontent.com/-JA8V3yYHkmc/AAAAAAAAAAI/AAAAAAAAAC4/DSeISnDbJ5U/s64/photo.jpg",
      "userId": "04990095043847157442"
     },
     "user_tz": -120
    },
    "id": "6ZhDwHh0B49a",
    "outputId": "af995d81-857d-4858-8aaf-d37ecfc847a6"
   },
   "outputs": [
    {
     "name": "stdout",
     "output_type": "stream",
     "text": [
      "Requirement already satisfied: imgaug in /usr/local/lib/python3.6/dist-packages (0.2.9)\n",
      "Requirement already satisfied: Shapely in /usr/local/lib/python3.6/dist-packages (from imgaug) (1.6.4.post2)\n",
      "Requirement already satisfied: Pillow in /usr/local/lib/python3.6/dist-packages (from imgaug) (4.3.0)\n",
      "Requirement already satisfied: scikit-image>=0.11.0 in /usr/local/lib/python3.6/dist-packages (from imgaug) (0.15.0)\n",
      "Requirement already satisfied: scipy in /usr/local/lib/python3.6/dist-packages (from imgaug) (1.3.0)\n",
      "Requirement already satisfied: numpy>=1.15.0 in /usr/local/lib/python3.6/dist-packages (from imgaug) (1.16.3)\n",
      "Requirement already satisfied: six in /usr/local/lib/python3.6/dist-packages (from imgaug) (1.12.0)\n",
      "Requirement already satisfied: opencv-python in /usr/local/lib/python3.6/dist-packages (from imgaug) (3.4.5.20)\n",
      "Requirement already satisfied: matplotlib in /usr/local/lib/python3.6/dist-packages (from imgaug) (3.0.3)\n",
      "Requirement already satisfied: imageio in /usr/local/lib/python3.6/dist-packages (from imgaug) (2.4.1)\n",
      "Requirement already satisfied: olefile in /usr/local/lib/python3.6/dist-packages (from Pillow->imgaug) (0.46)\n",
      "Requirement already satisfied: PyWavelets>=0.4.0 in /usr/local/lib/python3.6/dist-packages (from scikit-image>=0.11.0->imgaug) (1.0.3)\n",
      "Requirement already satisfied: networkx>=2.0 in /usr/local/lib/python3.6/dist-packages (from scikit-image>=0.11.0->imgaug) (2.3)\n",
      "Requirement already satisfied: pyparsing!=2.0.4,!=2.1.2,!=2.1.6,>=2.0.1 in /usr/local/lib/python3.6/dist-packages (from matplotlib->imgaug) (2.4.0)\n",
      "Requirement already satisfied: cycler>=0.10 in /usr/local/lib/python3.6/dist-packages (from matplotlib->imgaug) (0.10.0)\n",
      "Requirement already satisfied: python-dateutil>=2.1 in /usr/local/lib/python3.6/dist-packages (from matplotlib->imgaug) (2.5.3)\n",
      "Requirement already satisfied: kiwisolver>=1.0.1 in /usr/local/lib/python3.6/dist-packages (from matplotlib->imgaug) (1.1.0)\n",
      "Requirement already satisfied: decorator>=4.3.0 in /usr/local/lib/python3.6/dist-packages (from networkx>=2.0->scikit-image>=0.11.0->imgaug) (4.4.0)\n",
      "Requirement already satisfied: setuptools in /usr/local/lib/python3.6/dist-packages (from kiwisolver>=1.0.1->matplotlib->imgaug) (41.0.1)\n"
     ]
    }
   ],
   "source": [
    "!pip install imgaug"
   ]
  },
  {
   "cell_type": "code",
   "execution_count": 0,
   "metadata": {
    "colab": {},
    "colab_type": "code",
    "id": "U9I9WgOtCALD"
   },
   "outputs": [],
   "source": [
    "import numpy as np\n",
    "import random\n",
    "import matplotlib.pyplot as plt\n",
    "from imgaug import augmenters as iaa\n",
    "from imgaug import parameters as iap\n",
    "from sklearn.model_selection import train_test_split"
   ]
  },
  {
   "cell_type": "code",
   "execution_count": 0,
   "metadata": {
    "colab": {
     "base_uri": "https://localhost:8080/",
     "height": 766
    },
    "colab_type": "code",
    "executionInfo": {
     "elapsed": 9697,
     "status": "ok",
     "timestamp": 1558467059098,
     "user": {
      "displayName": "Iwona Smith",
      "photoUrl": "https://lh4.googleusercontent.com/-JA8V3yYHkmc/AAAAAAAAAAI/AAAAAAAAAC4/DSeISnDbJ5U/s64/photo.jpg",
      "userId": "04990095043847157442"
     },
     "user_tz": -120
    },
    "id": "DJLP1roRqMFh",
    "outputId": "8935d264-9d8d-4cef-dd5c-aaca8030bd95"
   },
   "outputs": [
    {
     "name": "stdout",
     "output_type": "stream",
     "text": [
      "Collecting livelossplot\n",
      "  Downloading https://files.pythonhosted.org/packages/55/2b/4be0b3de085cfacf25fc1934f391bd85f90565db4f110f3f7b2220666b09/livelossplot-0.4.0-py3-none-any.whl\n",
      "Requirement already satisfied: notebook in /usr/local/lib/python3.6/dist-packages (from livelossplot) (5.2.2)\n",
      "Requirement already satisfied: matplotlib in /usr/local/lib/python3.6/dist-packages (from livelossplot) (3.0.3)\n",
      "Requirement already satisfied: ipython-genutils in /usr/local/lib/python3.6/dist-packages (from notebook->livelossplot) (0.2.0)\n",
      "Requirement already satisfied: jupyter-client in /usr/local/lib/python3.6/dist-packages (from notebook->livelossplot) (5.2.4)\n",
      "Requirement already satisfied: jinja2 in /usr/local/lib/python3.6/dist-packages (from notebook->livelossplot) (2.10.1)\n",
      "Requirement already satisfied: terminado>=0.3.3; sys_platform != \"win32\" in /usr/local/lib/python3.6/dist-packages (from notebook->livelossplot) (0.8.2)\n",
      "Requirement already satisfied: nbformat in /usr/local/lib/python3.6/dist-packages (from notebook->livelossplot) (4.4.0)\n",
      "Requirement already satisfied: traitlets>=4.2.1 in /usr/local/lib/python3.6/dist-packages (from notebook->livelossplot) (4.3.2)\n",
      "Requirement already satisfied: ipykernel in /usr/local/lib/python3.6/dist-packages (from notebook->livelossplot) (4.6.1)\n",
      "Requirement already satisfied: jupyter-core in /usr/local/lib/python3.6/dist-packages (from notebook->livelossplot) (4.4.0)\n",
      "Requirement already satisfied: tornado>=4 in /usr/local/lib/python3.6/dist-packages (from notebook->livelossplot) (4.5.3)\n",
      "Requirement already satisfied: nbconvert in /usr/local/lib/python3.6/dist-packages (from notebook->livelossplot) (5.5.0)\n",
      "Requirement already satisfied: cycler>=0.10 in /usr/local/lib/python3.6/dist-packages (from matplotlib->livelossplot) (0.10.0)\n",
      "Requirement already satisfied: pyparsing!=2.0.4,!=2.1.2,!=2.1.6,>=2.0.1 in /usr/local/lib/python3.6/dist-packages (from matplotlib->livelossplot) (2.4.0)\n",
      "Requirement already satisfied: python-dateutil>=2.1 in /usr/local/lib/python3.6/dist-packages (from matplotlib->livelossplot) (2.5.3)\n",
      "Requirement already satisfied: kiwisolver>=1.0.1 in /usr/local/lib/python3.6/dist-packages (from matplotlib->livelossplot) (1.1.0)\n",
      "Requirement already satisfied: numpy>=1.10.0 in /usr/local/lib/python3.6/dist-packages (from matplotlib->livelossplot) (1.16.3)\n",
      "Requirement already satisfied: pyzmq>=13 in /usr/local/lib/python3.6/dist-packages (from jupyter-client->notebook->livelossplot) (17.0.0)\n",
      "Requirement already satisfied: MarkupSafe>=0.23 in /usr/local/lib/python3.6/dist-packages (from jinja2->notebook->livelossplot) (1.1.1)\n",
      "Requirement already satisfied: ptyprocess; os_name != \"nt\" in /usr/local/lib/python3.6/dist-packages (from terminado>=0.3.3; sys_platform != \"win32\"->notebook->livelossplot) (0.6.0)\n",
      "Requirement already satisfied: jsonschema!=2.5.0,>=2.4 in /usr/local/lib/python3.6/dist-packages (from nbformat->notebook->livelossplot) (2.6.0)\n",
      "Requirement already satisfied: decorator in /usr/local/lib/python3.6/dist-packages (from traitlets>=4.2.1->notebook->livelossplot) (4.4.0)\n",
      "Requirement already satisfied: six in /usr/local/lib/python3.6/dist-packages (from traitlets>=4.2.1->notebook->livelossplot) (1.12.0)\n",
      "Requirement already satisfied: ipython>=4.0.0 in /usr/local/lib/python3.6/dist-packages (from ipykernel->notebook->livelossplot) (5.5.0)\n",
      "Requirement already satisfied: mistune>=0.8.1 in /usr/local/lib/python3.6/dist-packages (from nbconvert->notebook->livelossplot) (0.8.4)\n",
      "Requirement already satisfied: testpath in /usr/local/lib/python3.6/dist-packages (from nbconvert->notebook->livelossplot) (0.4.2)\n",
      "Requirement already satisfied: defusedxml in /usr/local/lib/python3.6/dist-packages (from nbconvert->notebook->livelossplot) (0.6.0)\n",
      "Requirement already satisfied: pygments in /usr/local/lib/python3.6/dist-packages (from nbconvert->notebook->livelossplot) (2.1.3)\n",
      "Requirement already satisfied: bleach in /usr/local/lib/python3.6/dist-packages (from nbconvert->notebook->livelossplot) (3.1.0)\n",
      "Requirement already satisfied: entrypoints>=0.2.2 in /usr/local/lib/python3.6/dist-packages (from nbconvert->notebook->livelossplot) (0.3)\n",
      "Requirement already satisfied: pandocfilters>=1.4.1 in /usr/local/lib/python3.6/dist-packages (from nbconvert->notebook->livelossplot) (1.4.2)\n",
      "Requirement already satisfied: setuptools in /usr/local/lib/python3.6/dist-packages (from kiwisolver>=1.0.1->matplotlib->livelossplot) (41.0.1)\n",
      "Requirement already satisfied: pexpect; sys_platform != \"win32\" in /usr/local/lib/python3.6/dist-packages (from ipython>=4.0.0->ipykernel->notebook->livelossplot) (4.7.0)\n",
      "Requirement already satisfied: pickleshare in /usr/local/lib/python3.6/dist-packages (from ipython>=4.0.0->ipykernel->notebook->livelossplot) (0.7.5)\n",
      "Requirement already satisfied: prompt-toolkit<2.0.0,>=1.0.4 in /usr/local/lib/python3.6/dist-packages (from ipython>=4.0.0->ipykernel->notebook->livelossplot) (1.0.16)\n",
      "Requirement already satisfied: simplegeneric>0.8 in /usr/local/lib/python3.6/dist-packages (from ipython>=4.0.0->ipykernel->notebook->livelossplot) (0.8.1)\n",
      "Requirement already satisfied: webencodings in /usr/local/lib/python3.6/dist-packages (from bleach->nbconvert->notebook->livelossplot) (0.5.1)\n",
      "Requirement already satisfied: wcwidth in /usr/local/lib/python3.6/dist-packages (from prompt-toolkit<2.0.0,>=1.0.4->ipython>=4.0.0->ipykernel->notebook->livelossplot) (0.1.7)\n",
      "Installing collected packages: livelossplot\n",
      "Successfully installed livelossplot-0.4.0\n"
     ]
    }
   ],
   "source": [
    "!pip install livelossplot"
   ]
  },
  {
   "cell_type": "code",
   "execution_count": 0,
   "metadata": {
    "colab": {
     "base_uri": "https://localhost:8080/",
     "height": 34
    },
    "colab_type": "code",
    "executionInfo": {
     "elapsed": 1914,
     "status": "ok",
     "timestamp": 1558467572121,
     "user": {
      "displayName": "Iwona Smith",
      "photoUrl": "https://lh4.googleusercontent.com/-JA8V3yYHkmc/AAAAAAAAAAI/AAAAAAAAAC4/DSeISnDbJ5U/s64/photo.jpg",
      "userId": "04990095043847157442"
     },
     "user_tz": -120
    },
    "id": "h9IBvwYFqNjD",
    "outputId": "ee5070ab-1ff0-4169-b536-78d7311fd4ea"
   },
   "outputs": [
    {
     "name": "stderr",
     "output_type": "stream",
     "text": [
      "Using TensorFlow backend.\n"
     ]
    }
   ],
   "source": [
    "from livelossplot import PlotLossesKeras\n",
    "from keras.models import Sequential\n",
    "from keras.layers import Conv2D, Flatten, Dense, Dropout, MaxPooling2D, Lambda\n",
    "from sklearn.model_selection import train_test_split"
   ]
  },
  {
   "cell_type": "code",
   "execution_count": 0,
   "metadata": {
    "colab": {},
    "colab_type": "code",
    "id": "VbeYw971CEFM"
   },
   "outputs": [],
   "source": [
    "X = np.load('X.npy')\n",
    "y = np.load('y.npy')"
   ]
  },
  {
   "cell_type": "code",
   "execution_count": 0,
   "metadata": {
    "colab": {
     "base_uri": "https://localhost:8080/",
     "height": 34
    },
    "colab_type": "code",
    "executionInfo": {
     "elapsed": 1007,
     "status": "ok",
     "timestamp": 1558467579176,
     "user": {
      "displayName": "Iwona Smith",
      "photoUrl": "https://lh4.googleusercontent.com/-JA8V3yYHkmc/AAAAAAAAAAI/AAAAAAAAAC4/DSeISnDbJ5U/s64/photo.jpg",
      "userId": "04990095043847157442"
     },
     "user_tz": -120
    },
    "id": "Su_bRvh3Cms1",
    "outputId": "9100e870-f508-4b6a-e943-4a38b623bfc5"
   },
   "outputs": [
    {
     "name": "stdout",
     "output_type": "stream",
     "text": [
      "(5382, 60, 80, 3) (5382,)\n"
     ]
    }
   ],
   "source": [
    "print(X.shape, y.shape)"
   ]
  },
  {
   "cell_type": "code",
   "execution_count": 0,
   "metadata": {
    "colab": {
     "base_uri": "https://localhost:8080/",
     "height": 269
    },
    "colab_type": "code",
    "executionInfo": {
     "elapsed": 795,
     "status": "ok",
     "timestamp": 1558467581520,
     "user": {
      "displayName": "Iwona Smith",
      "photoUrl": "https://lh4.googleusercontent.com/-JA8V3yYHkmc/AAAAAAAAAAI/AAAAAAAAAC4/DSeISnDbJ5U/s64/photo.jpg",
      "userId": "04990095043847157442"
     },
     "user_tz": -120
    },
    "id": "s9aC6CxKqW2f",
    "outputId": "ba558c87-c1ef-4ca4-86aa-9bff5fb970b1"
   },
   "outputs": [
    {
     "data": {
      "image/png": "[encoded data removed]",
      "text/plain": [
       "<Figure size 432x288 with 1 Axes>"
      ]
     },
     "metadata": {
      "tags": []
     },
     "output_type": "display_data"
    }
   ],
   "source": [
    "plt.hist(y, 50);"
   ]
  },
  {
   "cell_type": "code",
   "execution_count": 0,
   "metadata": {
    "colab": {},
    "colab_type": "code",
    "id": "h12oghW4qZbc"
   },
   "outputs": [],
   "source": [
    "def augment(img, steering_angle):\n",
    "  # flip\n",
    "  if random.random() >0.5:\n",
    "    img = img[:, ::-1, :]\n",
    "    steering_angle = - steering_angle\n",
    "  # blur\n",
    "  blurer = iaa.GaussianBlur(iap.Uniform(0.1, 1.0))\n",
    "  img = blurer.augment_image(img)\n",
    "  # RGB shuffle\n",
    "  shuffle = iaa.ChannelShuffle(p = 0.5)\n",
    "  img = shuffle.augment_image(img)\n",
    "  # fog\n",
    "  fog = iaa.Fog()\n",
    "  img = fog.augment_image(img)\n",
    "  #translate\n",
    "  tx = random.randint(-20,20)\n",
    "  translate = iaa.Affine(translate_px = {\"x\":tx}, mode ='edge')\n",
    "  img = translate.augment_image(img)\n",
    "  steering_angle += tx *0.25\n",
    "  return img, steering_angle"
   ]
  },
  {
   "cell_type": "code",
   "execution_count": 0,
   "metadata": {
    "colab": {
     "base_uri": "https://localhost:8080/",
     "height": 556
    },
    "colab_type": "code",
    "executionInfo": {
     "elapsed": 1676,
     "status": "ok",
     "timestamp": 1558430246503,
     "user": {
      "displayName": "Iwona Smith",
      "photoUrl": "https://lh4.googleusercontent.com/-JA8V3yYHkmc/AAAAAAAAAAI/AAAAAAAAAC4/DSeISnDbJ5U/s64/photo.jpg",
      "userId": "04990095043847157442"
     },
     "user_tz": -120
    },
    "id": "h2WzjT-rqikT",
    "outputId": "fcc583c6-9c51-431e-9590-78925f1bdd65"
   },
   "outputs": [
    {
     "name": "stdout",
     "output_type": "stream",
     "text": [
      "0.0\n"
     ]
    },
    {
     "data": {
      "image/png": "[encoded data removed]",
      "text/plain": [
       "<Figure size 432x288 with 1 Axes>"
      ]
     },
     "metadata": {
      "tags": []
     },
     "output_type": "display_data"
    },
    {
     "name": "stdout",
     "output_type": "stream",
     "text": [
      "-2.75\n"
     ]
    },
    {
     "data": {
      "image/png": "[encoded data removed]",
      "text/plain": [
       "<Figure size 432x288 with 1 Axes>"
      ]
     },
     "metadata": {
      "tags": []
     },
     "output_type": "display_data"
    }
   ],
   "source": [
    "plt.imshow(X[0])\n",
    "print(y[0])\n",
    "plt.show();\n",
    "\n",
    "img, angle = augment(X[0], y[0])\n",
    "plt.imshow(img)\n",
    "print(angle)\n",
    "plt.show();"
   ]
  },
  {
   "cell_type": "code",
   "execution_count": 0,
   "metadata": {
    "colab": {},
    "colab_type": "code",
    "id": "t3O_Fni1qj6Y"
   },
   "outputs": [],
   "source": [
    "X_train, X_val, y_train, y_val = train_test_split(X,y, test_size = 0.2, random_state = 42)"
   ]
  },
  {
   "cell_type": "code",
   "execution_count": 0,
   "metadata": {
    "colab": {
     "base_uri": "https://localhost:8080/",
     "height": 52
    },
    "colab_type": "code",
    "executionInfo": {
     "elapsed": 707,
     "status": "ok",
     "timestamp": 1558467594784,
     "user": {
      "displayName": "Iwona Smith",
      "photoUrl": "https://lh4.googleusercontent.com/-JA8V3yYHkmc/AAAAAAAAAAI/AAAAAAAAAC4/DSeISnDbJ5U/s64/photo.jpg",
      "userId": "04990095043847157442"
     },
     "user_tz": -120
    },
    "id": "2iIFnBCSqsQY",
    "outputId": "fb9041a7-8cb5-4ebb-bd94-6596cd5008b3"
   },
   "outputs": [
    {
     "name": "stdout",
     "output_type": "stream",
     "text": [
      "(4305, 60, 80, 3) (4305,)\n",
      "(1077, 60, 80, 3) (1077,)\n"
     ]
    }
   ],
   "source": [
    "print(X_train.shape, y_train.shape)\n",
    "print(X_val.shape, y_val.shape)"
   ]
  },
  {
   "cell_type": "code",
   "execution_count": 0,
   "metadata": {
    "colab": {
     "base_uri": "https://localhost:8080/",
     "height": 34
    },
    "colab_type": "code",
    "executionInfo": {
     "elapsed": 17275,
     "status": "ok",
     "timestamp": 1558467615739,
     "user": {
      "displayName": "Iwona Smith",
      "photoUrl": "https://lh4.googleusercontent.com/-JA8V3yYHkmc/AAAAAAAAAAI/AAAAAAAAAC4/DSeISnDbJ5U/s64/photo.jpg",
      "userId": "04990095043847157442"
     },
     "user_tz": -120
    },
    "id": "4QIlF5PZrENR",
    "outputId": "751cca15-8d1d-4057-d7e8-62874f726b08"
   },
   "outputs": [
    {
     "name": "stdout",
     "output_type": "stream",
     "text": [
      "(4305, 60, 80, 3) (4305,)\n"
     ]
    }
   ],
   "source": [
    "Xgen = []\n",
    "ygen = []\n",
    "for i in range (X_train.shape[0]):\n",
    "  img, angle = augment(X[i],y[i])\n",
    "  Xgen.append(img)\n",
    "  ygen.append(angle)\n",
    "\n",
    "\n",
    "Xgen = np.array(Xgen)\n",
    "ygen = np.array(ygen)\n",
    "print(Xgen.shape, ygen.shape)"
   ]
  },
  {
   "cell_type": "code",
   "execution_count": 0,
   "metadata": {
    "colab": {
     "base_uri": "https://localhost:8080/",
     "height": 286
    },
    "colab_type": "code",
    "executionInfo": {
     "elapsed": 1564,
     "status": "ok",
     "timestamp": 1558430309918,
     "user": {
      "displayName": "Iwona Smith",
      "photoUrl": "https://lh4.googleusercontent.com/-JA8V3yYHkmc/AAAAAAAAAAI/AAAAAAAAAC4/DSeISnDbJ5U/s64/photo.jpg",
      "userId": "04990095043847157442"
     },
     "user_tz": -120
    },
    "id": "pcYS4AIlrKYe",
    "outputId": "5e26fcce-c2c0-4d6a-a749-fb5e464d536f"
   },
   "outputs": [
    {
     "data": {
      "text/plain": [
       "<matplotlib.image.AxesImage at 0x7f24cc554630>"
      ]
     },
     "execution_count": 22,
     "metadata": {
      "tags": []
     },
     "output_type": "execute_result"
    },
    {
     "data": {
      "image/png": "[encoded data removed]",
      "text/plain": [
       "<Figure size 432x288 with 1 Axes>"
      ]
     },
     "metadata": {
      "tags": []
     },
     "output_type": "display_data"
    }
   ],
   "source": [
    "plt.imshow(Xgen[0])"
   ]
  },
  {
   "cell_type": "code",
   "execution_count": 0,
   "metadata": {
    "colab": {},
    "colab_type": "code",
    "id": "jaDEYMkErEzH"
   },
   "outputs": [],
   "source": [
    "# plt.hist(y_train, 50, facecolor = 'green');\n",
    "plt.hist(ygen, 50, facecolor = \"red\");"
   ]
  },
  {
   "cell_type": "code",
   "execution_count": 25,
   "metadata": {
    "colab": {
     "base_uri": "https://localhost:8080/",
     "height": 764
    },
    "colab_type": "code",
    "executionInfo": {
     "elapsed": 1837,
     "status": "ok",
     "timestamp": 1558468166602,
     "user": {
      "displayName": "Iwona Smith",
      "photoUrl": "https://lh4.googleusercontent.com/-JA8V3yYHkmc/AAAAAAAAAAI/AAAAAAAAAC4/DSeISnDbJ5U/s64/photo.jpg",
      "userId": "04990095043847157442"
     },
     "user_tz": -120
    },
    "id": "bld830dvrNXn",
    "outputId": "56061b22-e9b5-40b5-814d-7533dbfd6078"
   },
   "outputs": [
    {
     "name": "stdout",
     "output_type": "stream",
     "text": [
      "_________________________________________________________________\n",
      "Layer (type)                 Output Shape              Param #   \n",
      "=================================================================\n",
      "lambda_4 (Lambda)            (None, 60, 80, 3)         0         \n",
      "_________________________________________________________________\n",
      "conv2d_13 (Conv2D)           (None, 58, 78, 64)        1792      \n",
      "_________________________________________________________________\n",
      "conv2d_14 (Conv2D)           (None, 56, 76, 32)        18464     \n",
      "_________________________________________________________________\n",
      "max_pooling2d_11 (MaxPooling (None, 28, 38, 32)        0         \n",
      "_________________________________________________________________\n",
      "conv2d_15 (Conv2D)           (None, 26, 36, 16)        4624      \n",
      "_________________________________________________________________\n",
      "max_pooling2d_12 (MaxPooling (None, 13, 18, 16)        0         \n",
      "_________________________________________________________________\n",
      "conv2d_16 (Conv2D)           (None, 11, 16, 8)         1160      \n",
      "_________________________________________________________________\n",
      "max_pooling2d_13 (MaxPooling (None, 5, 8, 8)           0         \n",
      "_________________________________________________________________\n",
      "dropout_10 (Dropout)         (None, 5, 8, 8)           0         \n",
      "_________________________________________________________________\n",
      "flatten_4 (Flatten)          (None, 320)               0         \n",
      "_________________________________________________________________\n",
      "dense_13 (Dense)             (None, 512)               164352    \n",
      "_________________________________________________________________\n",
      "dropout_11 (Dropout)         (None, 512)               0         \n",
      "_________________________________________________________________\n",
      "dense_14 (Dense)             (None, 512)               262656    \n",
      "_________________________________________________________________\n",
      "dropout_12 (Dropout)         (None, 512)               0         \n",
      "_________________________________________________________________\n",
      "dense_15 (Dense)             (None, 32)                16416     \n",
      "_________________________________________________________________\n",
      "dropout_13 (Dropout)         (None, 32)                0         \n",
      "_________________________________________________________________\n",
      "dense_16 (Dense)             (None, 16)                528       \n",
      "_________________________________________________________________\n",
      "dense_17 (Dense)             (None, 1)                 17        \n",
      "=================================================================\n",
      "Total params: 470,009\n",
      "Trainable params: 470,009\n",
      "Non-trainable params: 0\n",
      "_________________________________________________________________\n"
     ]
    }
   ],
   "source": [
    "def mymodel (input_shape):\n",
    "  model = Sequential([\n",
    "      Lambda(lambda x: (x - 128.0)/225.0, input_shape = input_shape),\n",
    "      \n",
    "      Conv2D(64, (3,3), activation = \"relu\"),\n",
    "      \n",
    "      Conv2D(32, (3,3), activation = \"relu\"),\n",
    "      MaxPooling2D(pool_size = (2,2)),\n",
    "      Conv2D(16, (3,3), activation = \"relu\"),\n",
    "      MaxPooling2D(pool_size = (2,2)),\n",
    "      Conv2D(8, (3,3), activation = \"relu\"),\n",
    "      MaxPooling2D(pool_size = (2,2)),\n",
    "      Dropout(rate = 0.3),\n",
    "      Flatten(),\n",
    "      Dense(512, activation = \"relu\"),\n",
    "      Dropout(rate = 0.3),\n",
    "      Dense(512, activation = \"relu\"), \n",
    "      Dropout(rate = 0.3),\n",
    "      Dense(32, activation = \"relu\"), \n",
    "      Dropout(rate = 0.3),\n",
    "      Dense(16, activation = \"relu\"), \n",
    "      Dense(1), \n",
    "      \n",
    "  ])\n",
    "  return model \n",
    "model = mymodel(X[0].shape)\n",
    "model.summary()"
   ]
  },
  {
   "cell_type": "code",
   "execution_count": 0,
   "metadata": {
    "colab": {},
    "colab_type": "code",
    "id": "dQz6JFTErSie"
   },
   "outputs": [],
   "source": [
    "model.compile( 'adam', 'mse')"
   ]
  },
  {
   "cell_type": "code",
   "execution_count": 0,
   "metadata": {
    "colab": {},
    "colab_type": "code",
    "id": "si_3EaT4rvW7"
   },
   "outputs": [],
   "source": [
    "batch_size = 512\n",
    "\n",
    "epochs = 30"
   ]
  },
  {
   "cell_type": "code",
   "execution_count": 0,
   "metadata": {
    "colab": {
     "base_uri": "https://localhost:8080/",
     "height": 413
    },
    "colab_type": "code",
    "executionInfo": {
     "elapsed": 6,
     "status": "ok",
     "timestamp": 1558467687722,
     "user": {
      "displayName": "Iwona Smith",
      "photoUrl": "https://lh4.googleusercontent.com/-JA8V3yYHkmc/AAAAAAAAAAI/AAAAAAAAAC4/DSeISnDbJ5U/s64/photo.jpg",
      "userId": "04990095043847157442"
     },
     "user_tz": -120
    },
    "id": "wuGRUXTkrxka",
    "outputId": "13fb7c7e-8518-44cc-bffe-5c2febbb0613"
   },
   "outputs": [
    {
     "data": {
      "image/png": "[encoded data removed]",
      "text/plain": [
       "<Figure size 864x576 with 1 Axes>"
      ]
     },
     "metadata": {
      "tags": []
     },
     "output_type": "display_data"
    },
    {
     "name": "stdout",
     "output_type": "stream",
     "text": [
      "mse (cost function):\n",
      "training   (min:    2.702, max:    8.678, cur:    2.702)\n",
      "validation (min:    0.123, max:   13.345, cur:    0.747)\n",
      "Epoch 9/30\n",
      "1024/4305 [======>.......................] - ETA: 1s - loss: 2.3748"
     ]
    }
   ],
   "source": [
    "model.fit(Xgen, ygen,\n",
    "          batch_size = batch_size , \n",
    "          epochs = epochs, \n",
    "          validation_data = (X_val, y_val),\n",
    "          callbacks = [PlotLossesKeras()]\n",
    "         )"
   ]
  },
  {
   "cell_type": "code",
   "execution_count": 0,
   "metadata": {
    "colab": {
     "base_uri": "https://localhost:8080/",
     "height": 269
    },
    "colab_type": "code",
    "executionInfo": {
     "elapsed": 4684,
     "status": "ok",
     "timestamp": 1558430597890,
     "user": {
      "displayName": "Iwona Smith",
      "photoUrl": "https://lh4.googleusercontent.com/-JA8V3yYHkmc/AAAAAAAAAAI/AAAAAAAAAC4/DSeISnDbJ5U/s64/photo.jpg",
      "userId": "04990095043847157442"
     },
     "user_tz": -120
    },
    "id": "y9tsIKd_r6cG",
    "outputId": "b0194725-fc5c-4641-ac91-994d9820469c"
   },
   "outputs": [
    {
     "data": {
      "image/png": "[encoded data removed]",
      "text/plain": [
       "<Figure size 432x288 with 1 Axes>"
      ]
     },
     "metadata": {
      "tags": []
     },
     "output_type": "display_data"
    }
   ],
   "source": [
    "ypred = model.predict(X)\n",
    "plt.plot(y, 'g', ypred, 'r')\n",
    "plt.show();"
   ]
  },
  {
   "cell_type": "code",
   "execution_count": 0,
   "metadata": {
    "colab": {},
    "colab_type": "code",
    "id": "zsCG94OysK9m"
   },
   "outputs": [],
   "source": [
    "model.save('mymodel.h5')"
   ]
  }
 ],
 "metadata": {
  "accelerator": "GPU",
  "colab": {
   "collapsed_sections": [],
   "name": "drive_model.ipynb",
   "provenance": [],
   "version": "0.3.2"
  },
  "kernelspec": {
   "display_name": "Python 3",
   "language": "python",
   "name": "python3"
  },
  "language_info": {
   "codemirror_mode": {
    "name": "ipython",
    "version": 3
   },
   "file_extension": ".py",
   "mimetype": "text/x-python",
   "name": "python",
   "nbconvert_exporter": "python",
   "pygments_lexer": "ipython3",
   "version": "3.6.8"
  }
 },
 "nbformat": 4,
 "nbformat_minor": 1
}
